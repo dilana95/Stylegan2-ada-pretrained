{
  "nbformat": 4,
  "nbformat_minor": 0,
  "metadata": {
    "colab": {
      "name": "stylegan2_ada_final.ipynb",
      "provenance": []
    },
    "kernelspec": {
      "name": "python3",
      "display_name": "Python 3"
    },
    "language_info": {
      "name": "python"
    },
    "accelerator": "GPU"
  },
  "cells": [
    {
      "cell_type": "markdown",
      "source": [
        "## **Stylegan2-ADA**"
      ],
      "metadata": {
        "id": "Gv10l8PwUXNY"
      }
    },
    {
      "cell_type": "code",
      "execution_count": 1,
      "metadata": {
        "colab": {
          "base_uri": "https://localhost:8080/"
        },
        "id": "7H5g9p7M0f5M",
        "outputId": "a4c7bb04-3946-4231-83a7-b2df440540a6"
      },
      "outputs": [
        {
          "output_type": "stream",
          "name": "stdout",
          "text": [
            "TensorFlow 1.x selected.\n",
            "Mounted at /content/gdrive\n"
          ]
        }
      ],
      "source": [
        "# Run this for Google CoLab (use TensorFlow 1.x)\n",
        "%tensorflow_version 1.x\n",
        "#from google.colab import drive\n",
        "#drive.mount('/content/drive', force_remount=True)\n",
        "\n",
        "from google.colab import drive\n",
        "drive.mount('/content/gdrive')"
      ]
    },
    {
      "cell_type": "code",
      "source": [
        "!git clone https://github.com/NVlabs/stylegan2-ada.git"
      ],
      "metadata": {
        "colab": {
          "base_uri": "https://localhost:8080/"
        },
        "id": "LaqRgvs-0jkJ",
        "outputId": "44f17ae1-9c00-40f8-aae1-bfcb6a3958ab"
      },
      "execution_count": 2,
      "outputs": [
        {
          "output_type": "stream",
          "name": "stdout",
          "text": [
            "Cloning into 'stylegan2-ada'...\n",
            "remote: Enumerating objects: 74, done.\u001b[K\n",
            "remote: Counting objects: 100% (3/3), done.\u001b[K\n",
            "remote: Compressing objects: 100% (3/3), done.\u001b[K\n",
            "remote: Total 74 (delta 0), reused 1 (delta 0), pack-reused 71\u001b[K\n",
            "Unpacking objects: 100% (74/74), done.\n"
          ]
        }
      ]
    },
    {
      "cell_type": "code",
      "source": [
        "!ls /content/stylegan2-ada/"
      ],
      "metadata": {
        "colab": {
          "base_uri": "https://localhost:8080/"
        },
        "id": "Ld1HnOOL4rxI",
        "outputId": "0ca99647-3724-4207-b819-b2b7c416675c"
      },
      "execution_count": 3,
      "outputs": [
        {
          "output_type": "stream",
          "name": "stdout",
          "text": [
            "calc_metrics.py  Dockerfile   LICENSE.txt   README.md\t     train.py\n",
            "dataset_tool.py  docs\t      metrics\t    style_mixing.py\n",
            "dnnlib\t\t generate.py  projector.py  training\n"
          ]
        }
      ]
    },
    {
      "cell_type": "code",
      "source": [
        "import sys\n",
        "import pickle\n",
        "import os\n",
        "import numpy as np\n",
        "import PIL.Image\n",
        "from IPython.display import Image\n",
        "import matplotlib.pyplot as plt\n",
        "import cv2 \n",
        "\n",
        "sys.path.insert(0, \"/content/stylegan2-ada\")\n",
        "\n",
        "import dnnlib\n",
        "import dnnlib.tflib as tflib\n",
        "\n",
        "def seed2vec(Gs, seed):\n",
        "  rnd = np.random.RandomState(seed)\n",
        "  return rnd.randn(1, *Gs.input_shape[1:])\n",
        "\n",
        "def init_random_state(Gs, seed):\n",
        "  rnd = np.random.RandomState(seed) \n",
        "  noise_vars = [var for name, var in Gs.components.synthesis.vars.items() if name.startswith('noise')]\n",
        "  tflib.set_vars({var: rnd.randn(*var.shape.as_list()) for var in noise_vars}) # [height, width]\n",
        "\n",
        "def display_image(image):\n",
        "  plt.axis('off')\n",
        "  plt.imshow(image)\n",
        "  plt.show()\n",
        "\n",
        "def generate_image(Gs, z, truncation_psi):\n",
        "    # Render images for dlatents initialized from random seeds.\n",
        "    Gs_kwargs = {\n",
        "        'output_transform': dict(func=tflib.convert_images_to_uint8, nchw_to_nhwc=True),\n",
        "        'randomize_noise': False\n",
        "    }\n",
        "    if truncation_psi is not None:\n",
        "        Gs_kwargs['truncation_psi'] = truncation_psi\n",
        "\n",
        "    label = np.zeros([1] + Gs.input_shapes[1][1:])\n",
        "    images = Gs.run(z, label, **Gs_kwargs) # [minibatch, height, width, channel]\n",
        "    return images[0]"
      ],
      "metadata": {
        "id": "Gd9Hbyir0jqS"
      },
      "execution_count": 4,
      "outputs": []
    },
    {
      "cell_type": "code",
      "source": [
        "import IPython.display\n",
        "\n",
        "URL=\"https://nvlabs-fi-cdn.nvidia.com/stylegan2-ada/pretrained/ffhq.pkl\"\n",
        "#URL=\"https://drive.google.com/uc?id=1MEGjdvVpUsu1jB4zrXZN7Y4kBBOzizDQ\"\n",
        "#URL = \"https://github.com/jeffheaton/pretrained-gan-fish/releases/download/1.0.0/fish-gan-2020-12-09.pkl\"\n",
        "#URL = \"https://github.com/jeffheaton/pretrained-merry-gan-mas/releases/download/v1/christmas-gan-2020-12-03.pkl\"\n",
        "#URL = \"https://nvlabs-fi-cdn.nvidia.com/stylegan2-ada/pretrained/ffhq.pkl\"\n",
        "tflib.init_tf()\n",
        "print('Loading networks from \"%s\"...' % URL)\n",
        "with dnnlib.util.open_url(URL) as fp:\n",
        "    _G, _D, Gs = pickle.load(fp)"
      ],
      "metadata": {
        "colab": {
          "base_uri": "https://localhost:8080/"
        },
        "id": "BmtuL7zp0jtK",
        "outputId": "91cd345a-9121-49d2-d145-33fde71f5179"
      },
      "execution_count": 5,
      "outputs": [
        {
          "output_type": "stream",
          "name": "stdout",
          "text": [
            "Loading networks from \"https://nvlabs-fi-cdn.nvidia.com/stylegan2-ada/pretrained/ffhq.pkl\"...\n",
            "Downloading https://nvlabs-fi-cdn.nvidia.com/stylegan2-ada/pretrained/ffhq.pkl ... done\n"
          ]
        }
      ]
    },
    {
      "cell_type": "code",
      "source": [
        "# Choose your own starting and ending seed.\n",
        "SEED_FROM = 1995820000\n",
        "SEED_TO = 1995825000\n",
        "import cv2 \n",
        "#import matplotlib.pyplot as plt\n",
        "\n",
        "import skimage.io\n",
        "import numpy as np\n",
        "\n",
        "from matplotlib import pyplot as plt\n",
        "\n",
        "x=0\n",
        "# Generate the images for the seeds.\n",
        "for i in range(SEED_FROM, SEED_TO):\n",
        "  x=x+1\n",
        "  #print(f\"Seed {i}\")\n",
        "  init_random_state(Gs, 10)\n",
        "  z = seed2vec(Gs, i)\n",
        "  img = generate_image(Gs, z, 0.7)\n",
        "  #display_image(img)\n",
        "  #cv2.cvtColor(img, cv2.COLOR_BGR2RGB)\n",
        "  cv2.imwrite('/content/gdrive/MyDrive/generated_images/'+str(x)+'.png',cv2.cvtColor(img, cv2.COLOR_RGB2BGR))\n",
        "\n"
      ],
      "metadata": {
        "id": "m3lHRo590jwJ"
      },
      "execution_count": 9,
      "outputs": []
    },
    {
      "cell_type": "markdown",
      "source": [
        "# **Convert GDrive Folder to a zip file**"
      ],
      "metadata": {
        "id": "Qd1y9OUNUCGJ"
      }
    },
    {
      "cell_type": "code",
      "source": [
        "from zipfile import ZipFile\n",
        "import os"
      ],
      "metadata": {
        "id": "7TaYCX3s5B9l"
      },
      "execution_count": null,
      "outputs": []
    },
    {
      "cell_type": "code",
      "source": [
        "file_paths = []\n",
        "\n",
        "for root, directories, files in os.walk('/content/gdrive/MyDrive/generated_images'):\n",
        "  for filename in files:\n",
        "    filepath = os.path.join(root,filename)\n",
        "    file_paths.append(filepath)\n",
        "\n",
        "with ZipFile('/content/gdrive/MyDrive/images.zip','w') as zip:\n",
        "  for file in file_paths:\n",
        "    zip.write(file)"
      ],
      "metadata": {
        "id": "7Coq8jugULJA"
      },
      "execution_count": null,
      "outputs": []
    }
  ]
}