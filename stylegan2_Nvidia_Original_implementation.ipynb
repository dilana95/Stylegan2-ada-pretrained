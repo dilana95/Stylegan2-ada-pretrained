{
  "nbformat": 4,
  "nbformat_minor": 0,
  "metadata": {
    "colab": {
      "name": "stylegan2-Nvidia-Original_implementation.ipynb",
      "provenance": []
    },
    "kernelspec": {
      "name": "python3",
      "display_name": "Python 3"
    },
    "language_info": {
      "name": "python"
    },
    "accelerator": "GPU"
  },
  "cells": [
    {
      "cell_type": "code",
      "execution_count": null,
      "metadata": {
        "id": "JTqYHEhYy-ih"
      },
      "outputs": [],
      "source": [
        "# Run this for Google CoLab (use TensorFlow 1.x)\n",
        "%tensorflow_version 1.x\n",
        "#from google.colab import drive\n",
        "#drive.mount('/content/drive', force_remount=True)\n",
        "\n",
        "from google.colab import drive\n",
        "drive.mount('/content/gdrive')\n"
      ]
    },
    {
      "cell_type": "code",
      "source": [
        "!git clone https://github.com/NVlabs/stylegan2-ada.git"
      ],
      "metadata": {
        "colab": {
          "base_uri": "https://localhost:8080/"
        },
        "id": "BuIasGW4zB1z",
        "outputId": "5fccbaa4-1b52-485e-bad9-f8539141da14"
      },
      "execution_count": 12,
      "outputs": [
        {
          "output_type": "stream",
          "name": "stdout",
          "text": [
            "fatal: destination path 'stylegan2-ada' already exists and is not an empty directory.\n"
          ]
        }
      ]
    },
    {
      "cell_type": "code",
      "source": [
        "!ls /content/stylegan2-ada/"
      ],
      "metadata": {
        "colab": {
          "base_uri": "https://localhost:8080/"
        },
        "id": "4HEixBj_zB4Q",
        "outputId": "fadd1626-080d-4426-8c12-60d6cc54a45b"
      },
      "execution_count": 13,
      "outputs": [
        {
          "output_type": "stream",
          "name": "stdout",
          "text": [
            "calc_metrics.py  Dockerfile   LICENSE.txt   README.md\t     train.py\n",
            "dataset_tool.py  docs\t      metrics\t    style_mixing.py\n",
            "dnnlib\t\t generate.py  projector.py  training\n"
          ]
        }
      ]
    },
    {
      "cell_type": "code",
      "source": [
        "!python /content/stylegan2-ada/generate.py \\\n",
        "    --network=https://nvlabs-fi-cdn.nvidia.com/stylegan2-ada/pretrained/ffhq.pkl \\\n",
        "  --outdir=/content/results --seeds 8400-8420\n"
      ],
      "metadata": {
        "colab": {
          "base_uri": "https://localhost:8080/"
        },
        "id": "HvZ35jfhzB6b",
        "outputId": "5234bc0c-1cf2-4177-f183-0262fe3f563f"
      },
      "execution_count": 28,
      "outputs": [
        {
          "output_type": "stream",
          "name": "stdout",
          "text": [
            "Loading networks from \"https://nvlabs-fi-cdn.nvidia.com/stylegan2-ada/pretrained/ffhq.pkl\"...\n",
            "Setting up TensorFlow plugin \"fused_bias_act.cu\": Loading... Done.\n",
            "Setting up TensorFlow plugin \"upfirdn_2d.cu\": Loading... Done.\n",
            "Generating image for seed 8400 (0/21) ...\n",
            "Generating image for seed 8401 (1/21) ...\n",
            "Generating image for seed 8402 (2/21) ...\n",
            "Generating image for seed 8403 (3/21) ...\n",
            "Generating image for seed 8404 (4/21) ...\n",
            "Generating image for seed 8405 (5/21) ...\n",
            "Generating image for seed 8406 (6/21) ...\n",
            "Generating image for seed 8407 (7/21) ...\n",
            "Generating image for seed 8408 (8/21) ...\n",
            "Generating image for seed 8409 (9/21) ...\n",
            "Generating image for seed 8410 (10/21) ...\n",
            "Generating image for seed 8411 (11/21) ...\n",
            "Generating image for seed 8412 (12/21) ...\n",
            "Generating image for seed 8413 (13/21) ...\n",
            "Generating image for seed 8414 (14/21) ...\n",
            "Generating image for seed 8415 (15/21) ...\n",
            "Generating image for seed 8416 (16/21) ...\n",
            "Generating image for seed 8417 (17/21) ...\n",
            "Generating image for seed 8418 (18/21) ...\n",
            "Generating image for seed 8419 (19/21) ...\n",
            "Generating image for seed 8420 (20/21) ...\n"
          ]
        }
      ]
    },
    {
      "cell_type": "code",
      "source": [
        "!ls /content/results/"
      ],
      "metadata": {
        "id": "AVtZkCIszB8d"
      },
      "execution_count": null,
      "outputs": []
    },
    {
      "cell_type": "code",
      "source": [
        "cp /content/results/* \\\n",
        "    /content/gdrive/MyDrive/stylegan2\n"
      ],
      "metadata": {
        "id": "mAOF4lC7zCA7"
      },
      "execution_count": 30,
      "outputs": []
    },
    {
      "cell_type": "code",
      "source": [
        ""
      ],
      "metadata": {
        "id": "94deg_2o2IY3"
      },
      "execution_count": 10,
      "outputs": []
    },
    {
      "cell_type": "code",
      "source": [
        ""
      ],
      "metadata": {
        "id": "5Rmdyz8MzCGn"
      },
      "execution_count": 10,
      "outputs": []
    }
  ]
}